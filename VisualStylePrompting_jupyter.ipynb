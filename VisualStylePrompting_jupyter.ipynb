{
  "cells": [
    {
      "cell_type": "markdown",
      "metadata": {
        "id": "view-in-github"
      },
      "source": [
        "[![Open In Colab](https://colab.research.google.com/assets/colab-badge.svg)](https://colab.research.google.com/github/camenduru/VisualStylePrompting-jupyter/blob/main/VisualStylePrompting_jupyter.ipynb)"
      ]
    },
    {
      "cell_type": "code",
      "execution_count": null,
      "metadata": {
        "id": "VjYy0F2gZIPR"
      },
      "outputs": [],
      "source": [
        "%cd /content\n",
        "!git clone -b dev https://github.com/camenduru/VisualStylePrompting-hf\n",
        "%cd /content/VisualStylePrompting_Controlnet-hf\n",
        "\n",
        "!wget https://huggingface.co/spaces/naver-ai/VisualStylePrompting_Controlnet/resolve/main/assets/depth_dir/gundam.png -O /content/VisualStylePrompting-hf/assets/depth_dir/gundam.png\n",
        "!wget https://huggingface.co/spaces/naver-ai/VisualStylePrompting_Controlnet/resolve/main/assets/real_dir/Starry%20night%20over%20the%20rhone.png -O /content/VisualStylePrompting-hf/assets/real_dir/Starry%20night%20over%20the%20rhone.png\n",
        "!wget https://huggingface.co/spaces/naver-ai/VisualStylePrompting_Controlnet/resolve/main/assets/real_dir/The%20kiss.png -O /content/VisualStylePrompting-hf/assets/real_dir/The%20kiss.png\n",
        "!wget https://huggingface.co/spaces/naver-ai/VisualStylePrompting_Controlnet/resolve/main/assets/real_dir/The%20scream.png -O /content/VisualStylePrompting-hf/assets/real_dir/The%20scream.png\n",
        "!wget https://huggingface.co/spaces/naver-ai/VisualStylePrompting_Controlnet/resolve/main/assets/real_dir/The%20starry%20night.png -O /content/VisualStylePrompting-hf/assets/real_dir/The%20starry%20night.png\n",
        "!wget https://huggingface.co/spaces/naver-ai/VisualStylePrompting_Controlnet/resolve/main/assets/real_dir/Vitruvian%20Man.png -O /content/VisualStylePrompting-hf/assets/real_dir/Vitruvian%20Man.png\n",
        "!wget https://huggingface.co/spaces/naver-ai/VisualStylePrompting_Controlnet/resolve/main/assets/real_dir/Weeping%20woman.png -O /content/VisualStylePrompting-hf/assets/real_dir/Weeping%20woman.png\n",
        "!wget https://huggingface.co/spaces/naver-ai/VisualStylePrompting_Controlnet/resolve/main/assets/real_dir/self%20portrait.png -O /content/VisualStylePrompting-hf/assets/real_dir/self%20portrait.png\n",
        "!wget https://huggingface.co/spaces/naver-ai/VisualStylePrompting_Controlnet/resolve/main/assets/ref/ref_chinese-ink-paint_A%20horse.png -O /content/VisualStylePrompting-hf/assets/ref/ref_chinese-ink-paint_A%20horse.png\n",
        "!wget https://huggingface.co/spaces/naver-ai/VisualStylePrompting_Controlnet/resolve/main/assets/ref/ref_cloud_a%20Cloud%20in%20the%20sky.png -O /content/VisualStylePrompting-hf/assets/ref/ref_cloud_a%20Cloud%20in%20the%20sky.png\n",
        "!wget https://huggingface.co/spaces/naver-ai/VisualStylePrompting_Controlnet/resolve/main/assets/ref/ref_digital-art_A%20robot.png -O /content/VisualStylePrompting-hf/assets/ref/ref_digital-art_A%20robot.png\n",
        "!wget https://huggingface.co/spaces/naver-ai/VisualStylePrompting_Controlnet/resolve/main/assets/ref/ref_fire_fire.png -O /content/VisualStylePrompting-hf/assets/ref/ref_fire_fire.png\n",
        "!wget https://huggingface.co/spaces/naver-ai/VisualStylePrompting_Controlnet/resolve/main/assets/ref/ref_klimt_the%20kiss.png -O /content/VisualStylePrompting-hf/assets/ref/ref_klimt_the%20kiss.png\n",
        "!wget https://huggingface.co/spaces/naver-ai/VisualStylePrompting_Controlnet/resolve/main/assets/ref/ref_line-art_an%20owl.png -O /content/VisualStylePrompting-hf/assets/ref/ref_line-art_an%20owl.png\n",
        "!wget https://huggingface.co/spaces/naver-ai/VisualStylePrompting_Controlnet/resolve/main/assets/ref/ref_munch_The%20scream.png -O /content/VisualStylePrompting-hf/assets/ref/ref_munch_The%20scream.png\n",
        "!wget https://huggingface.co/spaces/naver-ai/VisualStylePrompting_Controlnet/resolve/main/assets/ref/ref_totoro_totoro%20holding%20a%20tiny%20umbrella%20in%20the%20rain.png -O /content/VisualStylePrompting-hf/assets/ref/ref_totoro_totoro%20holding%20a%20tiny%20umbrella%20in%20the%20rain.png\n",
        "!wget https://huggingface.co/spaces/naver-ai/VisualStylePrompting_Controlnet/resolve/main/assets/ref/ref_van-gogh_The%20Starry%20Night.png -O /content/VisualStylePrompting-hf/assets/ref/ref_van-gogh_The%20Starry%20Night.png\n",
        "\n",
        "!pip install -q torch==1.13.1+cu116 torchvision==0.14.1+cu116 torchaudio==0.13.1 torchtext==0.14.1 torchdata==0.5.1 --extra-index-url https://download.pytorch.org/whl/cu116 -U\n",
        "!pip install -q xformers==0.0.16 triton==2.0.0 transformers diffusers einops kornia accelerate gradio\n",
        "\n",
        "!python app.py"
      ]
    }
  ],
  "metadata": {
    "accelerator": "GPU",
    "colab": {
      "gpuType": "T4",
      "provenance": []
    },
    "kernelspec": {
      "display_name": "Python 3",
      "name": "python3"
    },
    "language_info": {
      "name": "python"
    }
  },
  "nbformat": 4,
  "nbformat_minor": 0
}
